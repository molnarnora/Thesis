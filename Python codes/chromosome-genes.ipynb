{
 "cells": [
  {
   "cell_type": "code",
   "execution_count": 1,
   "id": "648db171",
   "metadata": {
    "_cell_guid": "b1076dfc-b9ad-4769-8c92-a6c4dae69d19",
    "_uuid": "8f2839f25d086af736a60e9eeb907d3b93b6e0e5",
    "execution": {
     "iopub.execute_input": "2022-10-22T15:18:36.633335Z",
     "iopub.status.busy": "2022-10-22T15:18:36.632558Z",
     "iopub.status.idle": "2022-10-22T15:18:36.653428Z",
     "shell.execute_reply": "2022-10-22T15:18:36.652185Z"
    },
    "papermill": {
     "duration": 0.031669,
     "end_time": "2022-10-22T15:18:36.657299",
     "exception": false,
     "start_time": "2022-10-22T15:18:36.625630",
     "status": "completed"
    },
    "tags": []
   },
   "outputs": [
    {
     "name": "stdout",
     "output_type": "stream",
     "text": [
      "/kaggle/input/chromosomes-genes/Chromosomes_Genes_all.csv\n",
      "/kaggle/input/chromosomes-genes/Li_et_al_list.csv\n"
     ]
    }
   ],
   "source": [
    "# This Python 3 environment comes with many helpful analytics libraries installed\n",
    "# It is defined by the kaggle/python Docker image: https://github.com/kaggle/docker-python\n",
    "# For example, here's several helpful packages to load\n",
    "\n",
    "import numpy as np # linear algebra\n",
    "import pandas as pd # data processing, CSV file I/O (e.g. pd.read_csv)\n",
    "\n",
    "# Input data files are available in the read-only \"../input/\" directory\n",
    "# For example, running this (by clicking run or pressing Shift+Enter) will list all files under the input directory\n",
    "\n",
    "import os\n",
    "for dirname, _, filenames in os.walk('/kaggle/input'):\n",
    "    for filename in filenames:\n",
    "        print(os.path.join(dirname, filename))\n",
    "\n",
    "# You can write up to 20GB to the current directory (/kaggle/working/) that gets preserved as output when you create a version using \"Save & Run All\" \n",
    "# You can also write temporary files to /kaggle/temp/, but they won't be saved outside of the current session"
   ]
  },
  {
   "cell_type": "code",
   "execution_count": 2,
   "id": "8d77d339",
   "metadata": {
    "execution": {
     "iopub.execute_input": "2022-10-22T15:18:36.667336Z",
     "iopub.status.busy": "2022-10-22T15:18:36.666864Z",
     "iopub.status.idle": "2022-10-22T15:18:36.774658Z",
     "shell.execute_reply": "2022-10-22T15:18:36.773279Z"
    },
    "papermill": {
     "duration": 0.115796,
     "end_time": "2022-10-22T15:18:36.777547",
     "exception": false,
     "start_time": "2022-10-22T15:18:36.661751",
     "status": "completed"
    },
    "tags": []
   },
   "outputs": [],
   "source": [
    "df_genes = pd.read_csv(\"/kaggle/input/chromosomes-genes/Chromosomes_Genes_all.csv\", delimiter = ';', encoding='cp1252') #encoding is necessary because 'utf-8' can't decode some bytes\n",
    "df_li = pd.read_csv(\"/kaggle/input/chromosomes-genes/Li_et_al_list.csv\", delimiter = ';')"
   ]
  },
  {
   "cell_type": "code",
   "execution_count": 3,
   "id": "afe9696f",
   "metadata": {
    "execution": {
     "iopub.execute_input": "2022-10-22T15:18:36.786463Z",
     "iopub.status.busy": "2022-10-22T15:18:36.785956Z",
     "iopub.status.idle": "2022-10-22T15:18:36.834744Z",
     "shell.execute_reply": "2022-10-22T15:18:36.833470Z"
    },
    "papermill": {
     "duration": 0.056576,
     "end_time": "2022-10-22T15:18:36.837684",
     "exception": false,
     "start_time": "2022-10-22T15:18:36.781108",
     "status": "completed"
    },
    "tags": []
   },
   "outputs": [
    {
     "data": {
      "text/html": [
       "<div>\n",
       "<style scoped>\n",
       "    .dataframe tbody tr th:only-of-type {\n",
       "        vertical-align: middle;\n",
       "    }\n",
       "\n",
       "    .dataframe tbody tr th {\n",
       "        vertical-align: top;\n",
       "    }\n",
       "\n",
       "    .dataframe thead th {\n",
       "        text-align: right;\n",
       "    }\n",
       "</style>\n",
       "<table border=\"1\" class=\"dataframe\">\n",
       "  <thead>\n",
       "    <tr style=\"text-align: right;\">\n",
       "      <th></th>\n",
       "      <th>Gene Name</th>\n",
       "      <th>Gene Systematic Name</th>\n",
       "      <th>Feature type</th>\n",
       "      <th>Start Coordinate</th>\n",
       "      <th>End Coordinate</th>\n",
       "      <th>Length</th>\n",
       "      <th>Strand</th>\n",
       "      <th>Description</th>\n",
       "      <th>No. Of Chromosome</th>\n",
       "      <th>In Li_et_al.</th>\n",
       "    </tr>\n",
       "  </thead>\n",
       "  <tbody>\n",
       "    <tr>\n",
       "      <th>0</th>\n",
       "      <td>ARS101</td>\n",
       "      <td>ARS109</td>\n",
       "      <td>ARS</td>\n",
       "      <td>159907</td>\n",
       "      <td>160127.0</td>\n",
       "      <td>220</td>\n",
       "      <td>0</td>\n",
       "      <td>ARS containing multiple redundant ORC binding ...</td>\n",
       "      <td>I</td>\n",
       "      <td></td>\n",
       "    </tr>\n",
       "    <tr>\n",
       "      <th>1</th>\n",
       "      <td>ARS102</td>\n",
       "      <td>ARS102</td>\n",
       "      <td>ARS</td>\n",
       "      <td>707</td>\n",
       "      <td>776.0</td>\n",
       "      <td>69</td>\n",
       "      <td>0</td>\n",
       "      <td>Autonomously Replicating Sequence</td>\n",
       "      <td>I</td>\n",
       "      <td></td>\n",
       "    </tr>\n",
       "    <tr>\n",
       "      <th>2</th>\n",
       "      <td>ARS103</td>\n",
       "      <td>ARS103</td>\n",
       "      <td>ARS</td>\n",
       "      <td>7997</td>\n",
       "      <td>8547.0</td>\n",
       "      <td>550</td>\n",
       "      <td>0</td>\n",
       "      <td>Autonomously Replicating Sequence, replication...</td>\n",
       "      <td>I</td>\n",
       "      <td></td>\n",
       "    </tr>\n",
       "    <tr>\n",
       "      <th>3</th>\n",
       "      <td>ARS104</td>\n",
       "      <td>ARS104</td>\n",
       "      <td>ARS</td>\n",
       "      <td>30946</td>\n",
       "      <td>31183.0</td>\n",
       "      <td>237</td>\n",
       "      <td>0</td>\n",
       "      <td>Autonomously Replicating Sequence</td>\n",
       "      <td>I</td>\n",
       "      <td></td>\n",
       "    </tr>\n",
       "    <tr>\n",
       "      <th>4</th>\n",
       "      <td>ARS105</td>\n",
       "      <td>ARS105</td>\n",
       "      <td>ARS</td>\n",
       "      <td>41992</td>\n",
       "      <td>42151.0</td>\n",
       "      <td>159</td>\n",
       "      <td>0</td>\n",
       "      <td>Autonomously Replicating Sequence</td>\n",
       "      <td>I</td>\n",
       "      <td></td>\n",
       "    </tr>\n",
       "    <tr>\n",
       "      <th>...</th>\n",
       "      <td>...</td>\n",
       "      <td>...</td>\n",
       "      <td>...</td>\n",
       "      <td>...</td>\n",
       "      <td>...</td>\n",
       "      <td>...</td>\n",
       "      <td>...</td>\n",
       "      <td>...</td>\n",
       "      <td>...</td>\n",
       "      <td>...</td>\n",
       "    </tr>\n",
       "    <tr>\n",
       "      <th>8002</th>\n",
       "      <td>Q0255</td>\n",
       "      <td>Q0255</td>\n",
       "      <td>ORF</td>\n",
       "      <td>74495</td>\n",
       "      <td>75984.0</td>\n",
       "      <td>1489</td>\n",
       "      <td>+</td>\n",
       "      <td>Maturase-like protein</td>\n",
       "      <td>MITO</td>\n",
       "      <td></td>\n",
       "    </tr>\n",
       "    <tr>\n",
       "      <th>8003</th>\n",
       "      <td>Q0297</td>\n",
       "      <td>Q0297</td>\n",
       "      <td>ORF</td>\n",
       "      <td>85554</td>\n",
       "      <td>85709.0</td>\n",
       "      <td>155</td>\n",
       "      <td>+</td>\n",
       "      <td>Dubious open reading frame, unlikely to encode...</td>\n",
       "      <td>MITO</td>\n",
       "      <td></td>\n",
       "    </tr>\n",
       "    <tr>\n",
       "      <th>8004</th>\n",
       "      <td>SCEI</td>\n",
       "      <td>Q0160</td>\n",
       "      <td>ORF</td>\n",
       "      <td>61022</td>\n",
       "      <td>61729.0</td>\n",
       "      <td>707</td>\n",
       "      <td>+</td>\n",
       "      <td>I-SceI DNA endonuclease, encoded by the mitoch...</td>\n",
       "      <td>MITO</td>\n",
       "      <td></td>\n",
       "    </tr>\n",
       "    <tr>\n",
       "      <th>8005</th>\n",
       "      <td>YIL175W</td>\n",
       "      <td>YIL175W</td>\n",
       "      <td>pseudogene</td>\n",
       "      <td>9183</td>\n",
       "      <td>9500.0</td>\n",
       "      <td>317</td>\n",
       "      <td>+</td>\n",
       "      <td>Hypothetical protein, classified as pseudogene...</td>\n",
       "      <td>IX</td>\n",
       "      <td></td>\n",
       "    </tr>\n",
       "    <tr>\n",
       "      <th>8006</th>\n",
       "      <td>YGR109W-B</td>\n",
       "      <td>YGR109W-B</td>\n",
       "      <td>transposable element gene</td>\n",
       "      <td>707610</td>\n",
       "      <td>712254.0</td>\n",
       "      <td>4644</td>\n",
       "      <td>+</td>\n",
       "      <td>Retrotransposon TYA Gag and TYB Pol genes, tra...</td>\n",
       "      <td>VII</td>\n",
       "      <td></td>\n",
       "    </tr>\n",
       "  </tbody>\n",
       "</table>\n",
       "<p>8007 rows × 10 columns</p>\n",
       "</div>"
      ],
      "text/plain": [
       "      Gene Name Gene Systematic Name               Feature type  \\\n",
       "0        ARS101               ARS109                        ARS   \n",
       "1        ARS102               ARS102                        ARS   \n",
       "2        ARS103               ARS103                        ARS   \n",
       "3        ARS104               ARS104                        ARS   \n",
       "4        ARS105               ARS105                        ARS   \n",
       "...         ...                  ...                        ...   \n",
       "8002      Q0255                Q0255                        ORF   \n",
       "8003      Q0297                Q0297                        ORF   \n",
       "8004       SCEI                Q0160                        ORF   \n",
       "8005    YIL175W              YIL175W                 pseudogene   \n",
       "8006  YGR109W-B            YGR109W-B  transposable element gene   \n",
       "\n",
       "      Start Coordinate  End Coordinate  Length Strand  \\\n",
       "0               159907        160127.0     220      0   \n",
       "1                  707           776.0      69      0   \n",
       "2                 7997          8547.0     550      0   \n",
       "3                30946         31183.0     237      0   \n",
       "4                41992         42151.0     159      0   \n",
       "...                ...             ...     ...    ...   \n",
       "8002             74495         75984.0    1489      +   \n",
       "8003             85554         85709.0     155      +   \n",
       "8004             61022         61729.0     707      +   \n",
       "8005              9183          9500.0     317      +   \n",
       "8006            707610        712254.0    4644      +   \n",
       "\n",
       "                                            Description No. Of Chromosome  \\\n",
       "0     ARS containing multiple redundant ORC binding ...                 I   \n",
       "1                     Autonomously Replicating Sequence                 I   \n",
       "2     Autonomously Replicating Sequence, replication...                 I   \n",
       "3                     Autonomously Replicating Sequence                 I   \n",
       "4                     Autonomously Replicating Sequence                 I   \n",
       "...                                                 ...               ...   \n",
       "8002                              Maturase-like protein              MITO   \n",
       "8003  Dubious open reading frame, unlikely to encode...              MITO   \n",
       "8004  I-SceI DNA endonuclease, encoded by the mitoch...              MITO   \n",
       "8005  Hypothetical protein, classified as pseudogene...                IX   \n",
       "8006  Retrotransposon TYA Gag and TYB Pol genes, tra...               VII   \n",
       "\n",
       "     In Li_et_al.  \n",
       "0                  \n",
       "1                  \n",
       "2                  \n",
       "3                  \n",
       "4                  \n",
       "...           ...  \n",
       "8002               \n",
       "8003               \n",
       "8004               \n",
       "8005               \n",
       "8006               \n",
       "\n",
       "[8007 rows x 10 columns]"
      ]
     },
     "execution_count": 3,
     "metadata": {},
     "output_type": "execute_result"
    }
   ],
   "source": [
    "df_genes[\"In Li_et_al.\"] = \"\"\n",
    "df_genes"
   ]
  },
  {
   "cell_type": "code",
   "execution_count": 4,
   "id": "25ec8a6a",
   "metadata": {
    "execution": {
     "iopub.execute_input": "2022-10-22T15:18:36.847833Z",
     "iopub.status.busy": "2022-10-22T15:18:36.847387Z",
     "iopub.status.idle": "2022-10-22T15:18:36.857332Z",
     "shell.execute_reply": "2022-10-22T15:18:36.856155Z"
    },
    "papermill": {
     "duration": 0.017982,
     "end_time": "2022-10-22T15:18:36.859697",
     "exception": false,
     "start_time": "2022-10-22T15:18:36.841715",
     "status": "completed"
    },
    "tags": []
   },
   "outputs": [
    {
     "data": {
      "text/plain": [
       "0           Q0010\n",
       "1           Q0017\n",
       "2           Q0032\n",
       "3             AI1\n",
       "4             AI2\n",
       "          ...    \n",
       "4412      YPR197C\n",
       "4413         SGE1\n",
       "4414         ARR1\n",
       "4415         ARR3\n",
       "4416    YPR204C-A\n",
       "Name: Genes, Length: 4417, dtype: object"
      ]
     },
     "execution_count": 4,
     "metadata": {},
     "output_type": "execute_result"
    }
   ],
   "source": [
    "s_li = df_li.squeeze()\n",
    "s_li"
   ]
  },
  {
   "cell_type": "code",
   "execution_count": 5,
   "id": "463e62e2",
   "metadata": {
    "execution": {
     "iopub.execute_input": "2022-10-22T15:18:36.869981Z",
     "iopub.status.busy": "2022-10-22T15:18:36.869536Z",
     "iopub.status.idle": "2022-10-22T15:18:36.878648Z",
     "shell.execute_reply": "2022-10-22T15:18:36.877192Z"
    },
    "papermill": {
     "duration": 0.018327,
     "end_time": "2022-10-22T15:18:36.882108",
     "exception": false,
     "start_time": "2022-10-22T15:18:36.863781",
     "status": "completed"
    },
    "tags": []
   },
   "outputs": [
    {
     "name": "stdout",
     "output_type": "stream",
     "text": [
      "True\n",
      "True\n"
     ]
    }
   ],
   "source": [
    "print(df_genes['Gene Name'].eq('AI2').any())\n",
    "print(df_li['Genes'].eq('AI2').any())"
   ]
  },
  {
   "cell_type": "code",
   "execution_count": 6,
   "id": "b36ccaf4",
   "metadata": {
    "execution": {
     "iopub.execute_input": "2022-10-22T15:18:36.893957Z",
     "iopub.status.busy": "2022-10-22T15:18:36.893460Z",
     "iopub.status.idle": "2022-10-22T15:18:47.428448Z",
     "shell.execute_reply": "2022-10-22T15:18:47.427348Z"
    },
    "papermill": {
     "duration": 10.543689,
     "end_time": "2022-10-22T15:18:47.431231",
     "exception": false,
     "start_time": "2022-10-22T15:18:36.887542",
     "status": "completed"
    },
    "tags": []
   },
   "outputs": [],
   "source": [
    "for index, value in s_li.items(): # In a new column I will notice, if that particular gene is an element of the list of Li et al.\n",
    "    df_genes.loc[df_genes['Gene Name'] == value, 'In Li_et_al.'] = \"Y\" #Li et al. did not consistently use colloquial/systematic gene names\n",
    "    df_genes.loc[df_genes['Gene Systematic Name'] == value, 'In Li_et_al.'] = \"Y\"\n",
    "    "
   ]
  },
  {
   "cell_type": "code",
   "execution_count": 7,
   "id": "e43c9f19",
   "metadata": {
    "execution": {
     "iopub.execute_input": "2022-10-22T15:18:47.441631Z",
     "iopub.status.busy": "2022-10-22T15:18:47.441073Z",
     "iopub.status.idle": "2022-10-22T15:18:47.449030Z",
     "shell.execute_reply": "2022-10-22T15:18:47.447936Z"
    },
    "papermill": {
     "duration": 0.015369,
     "end_time": "2022-10-22T15:18:47.451327",
     "exception": false,
     "start_time": "2022-10-22T15:18:47.435958",
     "status": "completed"
    },
    "tags": []
   },
   "outputs": [],
   "source": [
    "df_genes.loc[df_genes['In Li_et_al.'] == '', 'In Li_et_al.'] = \"N\""
   ]
  },
  {
   "cell_type": "code",
   "execution_count": 8,
   "id": "2d740082",
   "metadata": {
    "execution": {
     "iopub.execute_input": "2022-10-22T15:18:47.461025Z",
     "iopub.status.busy": "2022-10-22T15:18:47.460592Z",
     "iopub.status.idle": "2022-10-22T15:18:47.476810Z",
     "shell.execute_reply": "2022-10-22T15:18:47.475208Z"
    },
    "papermill": {
     "duration": 0.024245,
     "end_time": "2022-10-22T15:18:47.479583",
     "exception": false,
     "start_time": "2022-10-22T15:18:47.455338",
     "status": "completed"
    },
    "tags": []
   },
   "outputs": [
    {
     "name": "stdout",
     "output_type": "stream",
     "text": [
      "4417\n",
      "3590\n"
     ]
    }
   ],
   "source": [
    "print(df_genes[df_genes['In Li_et_al.'] == 'Y']['Gene Name'].count()) #checking\n",
    "print(df_genes[df_genes['In Li_et_al.'] == 'N']['Gene Name'].count())"
   ]
  },
  {
   "cell_type": "code",
   "execution_count": 9,
   "id": "c93f9578",
   "metadata": {
    "execution": {
     "iopub.execute_input": "2022-10-22T15:18:47.489470Z",
     "iopub.status.busy": "2022-10-22T15:18:47.488996Z",
     "iopub.status.idle": "2022-10-22T15:18:47.499109Z",
     "shell.execute_reply": "2022-10-22T15:18:47.497696Z"
    },
    "papermill": {
     "duration": 0.017824,
     "end_time": "2022-10-22T15:18:47.501526",
     "exception": false,
     "start_time": "2022-10-22T15:18:47.483702",
     "status": "completed"
    },
    "tags": []
   },
   "outputs": [
    {
     "name": "stdout",
     "output_type": "stream",
     "text": [
      "0          ARS101\n",
      "1          ARS102\n",
      "2          ARS103\n",
      "3          ARS104\n",
      "4          ARS105\n",
      "          ...    \n",
      "3607    YNCQ0022W\n",
      "3608    YNCQ0023W\n",
      "3609    YNCQ0024C\n",
      "3610    YNCQ0025W\n",
      "3611    YNCQ0026W\n",
      "Name: Gene Name, Length: 3590, dtype: object\n"
     ]
    }
   ],
   "source": [
    "remaining_list = df_genes[df_genes['In Li_et_al.'] == 'N']['Gene Name']\n",
    "print(remaining_list)"
   ]
  },
  {
   "cell_type": "code",
   "execution_count": 10,
   "id": "4542ccfb",
   "metadata": {
    "execution": {
     "iopub.execute_input": "2022-10-22T15:18:47.511567Z",
     "iopub.status.busy": "2022-10-22T15:18:47.511148Z",
     "iopub.status.idle": "2022-10-22T15:18:47.525280Z",
     "shell.execute_reply": "2022-10-22T15:18:47.524068Z"
    },
    "papermill": {
     "duration": 0.022201,
     "end_time": "2022-10-22T15:18:47.528046",
     "exception": false,
     "start_time": "2022-10-22T15:18:47.505845",
     "status": "completed"
    },
    "tags": []
   },
   "outputs": [],
   "source": [
    "remaining_list.to_csv('remaining_list.csv')"
   ]
  }
 ],
 "metadata": {
  "kernelspec": {
   "display_name": "Python 3",
   "language": "python",
   "name": "python3"
  },
  "language_info": {
   "codemirror_mode": {
    "name": "ipython",
    "version": 3
   },
   "file_extension": ".py",
   "mimetype": "text/x-python",
   "name": "python",
   "nbconvert_exporter": "python",
   "pygments_lexer": "ipython3",
   "version": "3.7.12"
  },
  "papermill": {
   "default_parameters": {},
   "duration": 21.342643,
   "end_time": "2022-10-22T15:18:48.453638",
   "environment_variables": {},
   "exception": null,
   "input_path": "__notebook__.ipynb",
   "output_path": "__notebook__.ipynb",
   "parameters": {},
   "start_time": "2022-10-22T15:18:27.110995",
   "version": "2.3.4"
  }
 },
 "nbformat": 4,
 "nbformat_minor": 5
}
